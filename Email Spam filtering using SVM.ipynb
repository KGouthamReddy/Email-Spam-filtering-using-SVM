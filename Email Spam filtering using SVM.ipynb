{
 "cells": [
  {
   "cell_type": "code",
   "execution_count": 1,
   "metadata": {},
   "outputs": [],
   "source": [
    "import numpy as np\n",
    "import pandas as pd\n",
    "import matplotlib.pyplot as plt\n",
    "from sklearn.feature_extraction.text import CountVectorizer\n",
    "from sklearn.model_selection import GridSearchCV\n",
    "from sklearn import svm"
   ]
  },
  {
   "cell_type": "code",
   "execution_count": 2,
   "metadata": {},
   "outputs": [
    {
     "data": {
      "text/html": [
       "<div>\n",
       "<style scoped>\n",
       "    .dataframe tbody tr th:only-of-type {\n",
       "        vertical-align: middle;\n",
       "    }\n",
       "\n",
       "    .dataframe tbody tr th {\n",
       "        vertical-align: top;\n",
       "    }\n",
       "\n",
       "    .dataframe thead th {\n",
       "        text-align: right;\n",
       "    }\n",
       "</style>\n",
       "<table border=\"1\" class=\"dataframe\">\n",
       "  <thead>\n",
       "    <tr style=\"text-align: right;\">\n",
       "      <th></th>\n",
       "      <th>Label</th>\n",
       "      <th>EmailText</th>\n",
       "    </tr>\n",
       "  </thead>\n",
       "  <tbody>\n",
       "    <tr>\n",
       "      <th>0</th>\n",
       "      <td>ham</td>\n",
       "      <td>Go until jurong point, crazy.. Available only ...</td>\n",
       "    </tr>\n",
       "    <tr>\n",
       "      <th>1</th>\n",
       "      <td>ham</td>\n",
       "      <td>Ok lar... Joking wif u oni...</td>\n",
       "    </tr>\n",
       "    <tr>\n",
       "      <th>2</th>\n",
       "      <td>spam</td>\n",
       "      <td>Free entry in 2 a wkly comp to win FA Cup fina...</td>\n",
       "    </tr>\n",
       "    <tr>\n",
       "      <th>3</th>\n",
       "      <td>ham</td>\n",
       "      <td>U dun say so early hor... U c already then say...</td>\n",
       "    </tr>\n",
       "    <tr>\n",
       "      <th>4</th>\n",
       "      <td>ham</td>\n",
       "      <td>Nah I don't think he goes to usf, he lives aro...</td>\n",
       "    </tr>\n",
       "    <tr>\n",
       "      <th>5</th>\n",
       "      <td>spam</td>\n",
       "      <td>FreeMsg Hey there darling it's been 3 week's n...</td>\n",
       "    </tr>\n",
       "    <tr>\n",
       "      <th>6</th>\n",
       "      <td>ham</td>\n",
       "      <td>Even my brother is not like to speak with me. ...</td>\n",
       "    </tr>\n",
       "  </tbody>\n",
       "</table>\n",
       "</div>"
      ],
      "text/plain": [
       "  Label                                          EmailText\n",
       "0   ham  Go until jurong point, crazy.. Available only ...\n",
       "1   ham                      Ok lar... Joking wif u oni...\n",
       "2  spam  Free entry in 2 a wkly comp to win FA Cup fina...\n",
       "3   ham  U dun say so early hor... U c already then say...\n",
       "4   ham  Nah I don't think he goes to usf, he lives aro...\n",
       "5  spam  FreeMsg Hey there darling it's been 3 week's n...\n",
       "6   ham  Even my brother is not like to speak with me. ..."
      ]
     },
     "execution_count": 2,
     "metadata": {},
     "output_type": "execute_result"
    }
   ],
   "source": [
    "data = pd.read_csv('spam.csv')\n",
    "data.head(7)"
   ]
  },
  {
   "cell_type": "code",
   "execution_count": 3,
   "metadata": {},
   "outputs": [
    {
     "name": "stdout",
     "output_type": "stream",
     "text": [
      "<class 'pandas.core.frame.DataFrame'>\n",
      "RangeIndex: 5572 entries, 0 to 5571\n",
      "Data columns (total 2 columns):\n",
      " #   Column     Non-Null Count  Dtype \n",
      "---  ------     --------------  ----- \n",
      " 0   Label      5572 non-null   object\n",
      " 1   EmailText  5572 non-null   object\n",
      "dtypes: object(2)\n",
      "memory usage: 87.2+ KB\n"
     ]
    }
   ],
   "source": [
    "data.info()"
   ]
  },
  {
   "cell_type": "code",
   "execution_count": null,
   "metadata": {},
   "outputs": [],
   "source": []
  },
  {
   "cell_type": "code",
   "execution_count": 4,
   "metadata": {},
   "outputs": [],
   "source": [
    "X = data['EmailText'].values\n",
    "y = data['Label'].values"
   ]
  },
  {
   "cell_type": "code",
   "execution_count": 5,
   "metadata": {},
   "outputs": [],
   "source": [
    "from sklearn.model_selection import train_test_split\n",
    "X_train, X_test, y_train, y_test = train_test_split( X, y, test_size=0.3, random_state=1)"
   ]
  },
  {
   "cell_type": "code",
   "execution_count": 6,
   "metadata": {},
   "outputs": [],
   "source": [
    "# Converting String to Integer\n",
    "cv = CountVectorizer() \n",
    "X_train = cv.fit_transform(X_train)\n",
    "X_test = cv.transform(X_test)"
   ]
  },
  {
   "cell_type": "code",
   "execution_count": 7,
   "metadata": {},
   "outputs": [
    {
     "name": "stdout",
     "output_type": "stream",
     "text": [
      "  (0, 1086)\t1\n",
      "  (0, 6844)\t1\n",
      "  (0, 6684)\t1\n",
      "  (0, 4199)\t1\n",
      "  (0, 7173)\t3\n",
      "  (0, 1910)\t1\n",
      "  (0, 4414)\t1\n",
      "  (1, 6443)\t1\n",
      "  (1, 3123)\t1\n",
      "  (1, 5784)\t1\n",
      "  (1, 6937)\t1\n",
      "  (1, 6358)\t1\n",
      "  (1, 4752)\t1\n",
      "  (1, 2629)\t1\n",
      "  (1, 4462)\t1\n",
      "  (2, 7173)\t1\n",
      "  (2, 3122)\t1\n",
      "  (2, 5226)\t1\n",
      "  (2, 7176)\t1\n",
      "  (2, 4234)\t1\n",
      "  (2, 1835)\t1\n",
      "  (2, 2422)\t1\n",
      "  (3, 2257)\t1\n",
      "  (3, 4186)\t1\n",
      "  (3, 239)\t1\n",
      "  :\t:\n",
      "  (3897, 3122)\t1\n",
      "  (3897, 3305)\t1\n",
      "  (3897, 4054)\t1\n",
      "  (3897, 4563)\t1\n",
      "  (3897, 2206)\t1\n",
      "  (3897, 3282)\t1\n",
      "  (3897, 6901)\t1\n",
      "  (3897, 6393)\t1\n",
      "  (3897, 4276)\t1\n",
      "  (3897, 1517)\t1\n",
      "  (3897, 4646)\t1\n",
      "  (3897, 4705)\t1\n",
      "  (3898, 3122)\t1\n",
      "  (3898, 5842)\t1\n",
      "  (3898, 3500)\t1\n",
      "  (3898, 4582)\t1\n",
      "  (3898, 3964)\t1\n",
      "  (3898, 3034)\t1\n",
      "  (3898, 1764)\t1\n",
      "  (3898, 5031)\t1\n",
      "  (3898, 6697)\t1\n",
      "  (3899, 7025)\t1\n",
      "  (3899, 1619)\t1\n",
      "  (3899, 4106)\t1\n",
      "  (3899, 5824)\t1\n"
     ]
    }
   ],
   "source": [
    "print(X_train)"
   ]
  },
  {
   "cell_type": "code",
   "execution_count": 8,
   "metadata": {},
   "outputs": [
    {
     "name": "stdout",
     "output_type": "stream",
     "text": [
      "  (0, 1848)\t1\n",
      "  (0, 3201)\t1\n",
      "  (0, 4353)\t1\n",
      "  (0, 5261)\t1\n",
      "  (0, 6465)\t1\n",
      "  (1, 924)\t1\n",
      "  (1, 2486)\t1\n",
      "  (1, 2964)\t1\n",
      "  (1, 4054)\t1\n",
      "  (1, 6465)\t1\n",
      "  (2, 703)\t1\n",
      "  (2, 882)\t1\n",
      "  (2, 1119)\t1\n",
      "  (2, 1506)\t1\n",
      "  (2, 1742)\t1\n",
      "  (2, 1812)\t1\n",
      "  (2, 3489)\t3\n",
      "  (2, 4353)\t1\n",
      "  (2, 4478)\t1\n",
      "  (2, 4801)\t1\n",
      "  (2, 5309)\t1\n",
      "  (2, 5372)\t1\n",
      "  (2, 5594)\t1\n",
      "  (2, 5894)\t1\n",
      "  (2, 6358)\t2\n",
      "  :\t:\n",
      "  (1669, 1495)\t2\n",
      "  (1669, 4152)\t1\n",
      "  (1669, 4201)\t1\n",
      "  (1669, 4478)\t1\n",
      "  (1670, 882)\t1\n",
      "  (1670, 1764)\t1\n",
      "  (1670, 2331)\t1\n",
      "  (1670, 3615)\t1\n",
      "  (1670, 3878)\t1\n",
      "  (1670, 4658)\t1\n",
      "  (1670, 5043)\t1\n",
      "  (1670, 6243)\t1\n",
      "  (1670, 6358)\t1\n",
      "  (1670, 6369)\t1\n",
      "  (1670, 6465)\t1\n",
      "  (1670, 6487)\t1\n",
      "  (1671, 1448)\t1\n",
      "  (1671, 1517)\t1\n",
      "  (1671, 2405)\t1\n",
      "  (1671, 2945)\t1\n",
      "  (1671, 3081)\t1\n",
      "  (1671, 3279)\t1\n",
      "  (1671, 3305)\t1\n",
      "  (1671, 5372)\t1\n",
      "  (1671, 6700)\t1\n"
     ]
    }
   ],
   "source": [
    "print(X_test)"
   ]
  },
  {
   "cell_type": "code",
   "execution_count": 9,
   "metadata": {},
   "outputs": [
    {
     "data": {
      "text/plain": [
       "SVC(random_state=0)"
      ]
     },
     "execution_count": 9,
     "metadata": {},
     "output_type": "execute_result"
    }
   ],
   "source": [
    "from sklearn.svm import SVC\n",
    "classifier = SVC(kernel = 'rbf', random_state = 0)\n",
    "classifier.fit(X_train, y_train)\n",
    "\n",
    "# rbf is a radia basis function, which is used for non-linear input data and to classify them using SVM"
   ]
  },
  {
   "cell_type": "code",
   "execution_count": 10,
   "metadata": {},
   "outputs": [
    {
     "name": "stdout",
     "output_type": "stream",
     "text": [
      "98.02631578947368\n"
     ]
    }
   ],
   "source": [
    "print(classifier.score(X_test,y_test)*100)"
   ]
  },
  {
   "cell_type": "code",
   "execution_count": null,
   "metadata": {},
   "outputs": [],
   "source": []
  },
  {
   "cell_type": "code",
   "execution_count": null,
   "metadata": {},
   "outputs": [],
   "source": []
  }
 ],
 "metadata": {
  "kernelspec": {
   "display_name": "Python 3",
   "language": "python",
   "name": "python3"
  },
  "language_info": {
   "codemirror_mode": {
    "name": "ipython",
    "version": 3
   },
   "file_extension": ".py",
   "mimetype": "text/x-python",
   "name": "python",
   "nbconvert_exporter": "python",
   "pygments_lexer": "ipython3",
   "version": "3.8.5"
  }
 },
 "nbformat": 4,
 "nbformat_minor": 4
}
